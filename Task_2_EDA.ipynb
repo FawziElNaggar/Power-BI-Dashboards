{
 "cells": [
  {
   "cell_type": "markdown",
   "id": "ebc2e9a0",
   "metadata": {},
   "source": [
    "#### Name : Fawzi Abdelnaby Elnaggar\n",
    "#### Chefaa - Data Scientest Task"
   ]
  },
  {
   "cell_type": "markdown",
   "id": "d1c0c03f",
   "metadata": {},
   "source": [
    "## Task_2\n",
    "## Dataset EDA"
   ]
  },
  {
   "cell_type": "code",
   "execution_count": 1,
   "id": "3c939f80",
   "metadata": {},
   "outputs": [],
   "source": [
    "import numpy as np\n",
    "import pandas as pd\n",
    "import matplotlib.pyplot as plt\n",
    "import seaborn as sns"
   ]
  },
  {
   "cell_type": "code",
   "execution_count": 5,
   "id": "519e2f84",
   "metadata": {},
   "outputs": [],
   "source": [
    "# Read Data\n",
    "MonthlyOrders = pd.read_excel('task2.xlsx', 'MonthlyOrders')\n",
    "RegularOrders = pd.read_excel('task2.xlsx', 'RegularOrders')\n",
    "StoresName = pd.read_excel('task2.xlsx', 'StoresName')\n",
    "commission = pd.read_excel('task2.xlsx', 'commission')\n",
    "\n",
    "# Drop Null Columns\n",
    "commission = commission.drop(commission.columns[3], axis=1)\n",
    "MonthlyOrders = MonthlyOrders.drop(['product title AR'], axis=1)\n",
    "RegularOrders = RegularOrders.drop(['product title AR'], axis=1)"
   ]
  },
  {
   "cell_type": "code",
   "execution_count": 6,
   "id": "3cb5878c",
   "metadata": {},
   "outputs": [],
   "source": [
    "MonthlyOrders.columns = [i.strip() for i in MonthlyOrders.columns]\n",
    "RegularOrders.columns = [i.strip() for i in RegularOrders.columns]\n",
    "commission.columns = [i.strip() for i in commission.columns]"
   ]
  },
  {
   "cell_type": "code",
   "execution_count": 10,
   "id": "5480d88c",
   "metadata": {},
   "outputs": [
    {
     "data": {
      "text/html": [
       "<div>\n",
       "<style scoped>\n",
       "    .dataframe tbody tr th:only-of-type {\n",
       "        vertical-align: middle;\n",
       "    }\n",
       "\n",
       "    .dataframe tbody tr th {\n",
       "        vertical-align: top;\n",
       "    }\n",
       "\n",
       "    .dataframe thead th {\n",
       "        text-align: right;\n",
       "    }\n",
       "</style>\n",
       "<table border=\"1\" class=\"dataframe\">\n",
       "  <thead>\n",
       "    <tr style=\"text-align: right;\">\n",
       "      <th></th>\n",
       "      <th>Product title En</th>\n",
       "      <th>Product type</th>\n",
       "      <th>Delivery Date</th>\n",
       "      <th>price</th>\n",
       "      <th>quantity</th>\n",
       "      <th>Store Id</th>\n",
       "      <th>product categoury</th>\n",
       "      <th>city</th>\n",
       "      <th>user id</th>\n",
       "      <th>order id</th>\n",
       "    </tr>\n",
       "  </thead>\n",
       "  <tbody>\n",
       "    <tr>\n",
       "      <th>0</th>\n",
       "      <td>bicycle.</td>\n",
       "      <td>sporting</td>\n",
       "      <td>2022-02-01 00:09:31</td>\n",
       "      <td>200.0</td>\n",
       "      <td>1</td>\n",
       "      <td>322</td>\n",
       "      <td>BabyToys</td>\n",
       "      <td>Cairo</td>\n",
       "      <td>300</td>\n",
       "      <td>500</td>\n",
       "    </tr>\n",
       "    <tr>\n",
       "      <th>1</th>\n",
       "      <td>train.</td>\n",
       "      <td>Gaming</td>\n",
       "      <td>2022-02-01 00:18:56</td>\n",
       "      <td>100.0</td>\n",
       "      <td>5</td>\n",
       "      <td>323</td>\n",
       "      <td>Entertainment</td>\n",
       "      <td>Giza</td>\n",
       "      <td>301</td>\n",
       "      <td>502</td>\n",
       "    </tr>\n",
       "    <tr>\n",
       "      <th>2</th>\n",
       "      <td>doll.</td>\n",
       "      <td>Gaming</td>\n",
       "      <td>2022-02-01 00:18:56</td>\n",
       "      <td>132.0</td>\n",
       "      <td>7</td>\n",
       "      <td>323</td>\n",
       "      <td>BabyToys</td>\n",
       "      <td>Giza</td>\n",
       "      <td>301</td>\n",
       "      <td>502</td>\n",
       "    </tr>\n",
       "    <tr>\n",
       "      <th>3</th>\n",
       "      <td>ball.</td>\n",
       "      <td>Gaming</td>\n",
       "      <td>2022-02-01 00:47:47</td>\n",
       "      <td>232.0</td>\n",
       "      <td>2</td>\n",
       "      <td>322</td>\n",
       "      <td>Entertainment</td>\n",
       "      <td>Cairo</td>\n",
       "      <td>302</td>\n",
       "      <td>503</td>\n",
       "    </tr>\n",
       "    <tr>\n",
       "      <th>4</th>\n",
       "      <td>teddy bear.</td>\n",
       "      <td>Baby Toys</td>\n",
       "      <td>2022-02-01 00:53:15</td>\n",
       "      <td>212.0</td>\n",
       "      <td>8</td>\n",
       "      <td>323</td>\n",
       "      <td>Games</td>\n",
       "      <td>Giza</td>\n",
       "      <td>301</td>\n",
       "      <td>504</td>\n",
       "    </tr>\n",
       "  </tbody>\n",
       "</table>\n",
       "</div>"
      ],
      "text/plain": [
       "  Product title En Product type       Delivery Date  price  quantity  \\\n",
       "0         bicycle.     sporting 2022-02-01 00:09:31  200.0         1   \n",
       "1           train.       Gaming 2022-02-01 00:18:56  100.0         5   \n",
       "2            doll.       Gaming 2022-02-01 00:18:56  132.0         7   \n",
       "3            ball.       Gaming 2022-02-01 00:47:47  232.0         2   \n",
       "4      teddy bear.    Baby Toys 2022-02-01 00:53:15  212.0         8   \n",
       "\n",
       "   Store Id product categoury   city  user id  order id  \n",
       "0       322          BabyToys  Cairo      300       500  \n",
       "1       323    Entertainment    Giza      301       502  \n",
       "2       323          BabyToys   Giza      301       502  \n",
       "3       322    Entertainment   Cairo      302       503  \n",
       "4       323             Games   Giza      301       504  "
      ]
     },
     "execution_count": 10,
     "metadata": {},
     "output_type": "execute_result"
    }
   ],
   "source": [
    "MonthlyOrders.head()"
   ]
  },
  {
   "cell_type": "code",
   "execution_count": 11,
   "id": "0c5294da",
   "metadata": {},
   "outputs": [
    {
     "name": "stdout",
     "output_type": "stream",
     "text": [
      "<class 'pandas.core.frame.DataFrame'>\n",
      "RangeIndex: 71 entries, 0 to 70\n",
      "Data columns (total 10 columns):\n",
      " #   Column             Non-Null Count  Dtype         \n",
      "---  ------             --------------  -----         \n",
      " 0   Product title En   71 non-null     object        \n",
      " 1   Product type       71 non-null     object        \n",
      " 2   Delivery Date      71 non-null     datetime64[ns]\n",
      " 3   price              71 non-null     float64       \n",
      " 4   quantity           71 non-null     int64         \n",
      " 5   Store Id           71 non-null     int64         \n",
      " 6   product categoury  71 non-null     object        \n",
      " 7   city               71 non-null     object        \n",
      " 8   user id            71 non-null     int64         \n",
      " 9   order id           71 non-null     int64         \n",
      "dtypes: datetime64[ns](1), float64(1), int64(4), object(4)\n",
      "memory usage: 5.7+ KB\n"
     ]
    }
   ],
   "source": [
    "MonthlyOrders.info()"
   ]
  },
  {
   "cell_type": "code",
   "execution_count": 12,
   "id": "b8ebb5f8",
   "metadata": {},
   "outputs": [
    {
     "data": {
      "text/html": [
       "<div>\n",
       "<style scoped>\n",
       "    .dataframe tbody tr th:only-of-type {\n",
       "        vertical-align: middle;\n",
       "    }\n",
       "\n",
       "    .dataframe tbody tr th {\n",
       "        vertical-align: top;\n",
       "    }\n",
       "\n",
       "    .dataframe thead th {\n",
       "        text-align: right;\n",
       "    }\n",
       "</style>\n",
       "<table border=\"1\" class=\"dataframe\">\n",
       "  <thead>\n",
       "    <tr style=\"text-align: right;\">\n",
       "      <th></th>\n",
       "      <th>price</th>\n",
       "      <th>quantity</th>\n",
       "      <th>Store Id</th>\n",
       "      <th>user id</th>\n",
       "      <th>order id</th>\n",
       "    </tr>\n",
       "  </thead>\n",
       "  <tbody>\n",
       "    <tr>\n",
       "      <th>count</th>\n",
       "      <td>71.00</td>\n",
       "      <td>71.00</td>\n",
       "      <td>71.00</td>\n",
       "      <td>71.00</td>\n",
       "      <td>71.00</td>\n",
       "    </tr>\n",
       "    <tr>\n",
       "      <th>mean</th>\n",
       "      <td>558.89</td>\n",
       "      <td>5.10</td>\n",
       "      <td>318.94</td>\n",
       "      <td>301.59</td>\n",
       "      <td>523.89</td>\n",
       "    </tr>\n",
       "    <tr>\n",
       "      <th>std</th>\n",
       "      <td>1353.54</td>\n",
       "      <td>2.51</td>\n",
       "      <td>5.38</td>\n",
       "      <td>1.08</td>\n",
       "      <td>10.67</td>\n",
       "    </tr>\n",
       "    <tr>\n",
       "      <th>min</th>\n",
       "      <td>3.00</td>\n",
       "      <td>1.00</td>\n",
       "      <td>311.00</td>\n",
       "      <td>300.00</td>\n",
       "      <td>500.00</td>\n",
       "    </tr>\n",
       "    <tr>\n",
       "      <th>25%</th>\n",
       "      <td>32.00</td>\n",
       "      <td>3.00</td>\n",
       "      <td>311.00</td>\n",
       "      <td>301.00</td>\n",
       "      <td>515.50</td>\n",
       "    </tr>\n",
       "    <tr>\n",
       "      <th>50%</th>\n",
       "      <td>121.00</td>\n",
       "      <td>5.00</td>\n",
       "      <td>322.00</td>\n",
       "      <td>301.00</td>\n",
       "      <td>532.00</td>\n",
       "    </tr>\n",
       "    <tr>\n",
       "      <th>75%</th>\n",
       "      <td>385.00</td>\n",
       "      <td>7.00</td>\n",
       "      <td>323.00</td>\n",
       "      <td>303.00</td>\n",
       "      <td>532.00</td>\n",
       "    </tr>\n",
       "    <tr>\n",
       "      <th>max</th>\n",
       "      <td>8689.00</td>\n",
       "      <td>9.00</td>\n",
       "      <td>323.00</td>\n",
       "      <td>303.00</td>\n",
       "      <td>532.00</td>\n",
       "    </tr>\n",
       "  </tbody>\n",
       "</table>\n",
       "</div>"
      ],
      "text/plain": [
       "         price  quantity  Store Id  user id  order id\n",
       "count    71.00     71.00     71.00    71.00     71.00\n",
       "mean    558.89      5.10    318.94   301.59    523.89\n",
       "std    1353.54      2.51      5.38     1.08     10.67\n",
       "min       3.00      1.00    311.00   300.00    500.00\n",
       "25%      32.00      3.00    311.00   301.00    515.50\n",
       "50%     121.00      5.00    322.00   301.00    532.00\n",
       "75%     385.00      7.00    323.00   303.00    532.00\n",
       "max    8689.00      9.00    323.00   303.00    532.00"
      ]
     },
     "execution_count": 12,
     "metadata": {},
     "output_type": "execute_result"
    }
   ],
   "source": [
    "MonthlyOrders.describe().round(2)"
   ]
  },
  {
   "cell_type": "code",
   "execution_count": 13,
   "id": "3be2dcd2",
   "metadata": {},
   "outputs": [
    {
     "data": {
      "text/plain": [
       "<AxesSubplot:xlabel='price'>"
      ]
     },
     "execution_count": 13,
     "metadata": {},
     "output_type": "execute_result"
    },
    {
     "data": {
      "image/png": "[encoded data removed]",
      "text/plain": [
       "<Figure size 432x288 with 1 Axes>"
      ]
     },
     "metadata": {
      "needs_background": "light"
     },
     "output_type": "display_data"
    }
   ],
   "source": [
    "sns.boxplot(x=MonthlyOrders['price'])"
   ]
  },
  {
   "cell_type": "code",
   "execution_count": 14,
   "id": "fc4e1fa4",
   "metadata": {},
   "outputs": [
    {
     "data": {
      "text/plain": [
       "Index(['Product title En', 'Product type', 'Delivery Date', 'price',\n",
       "       'quantity', 'Store Id', 'product categoury', 'city', 'user id',\n",
       "       'order id'],\n",
       "      dtype='object')"
      ]
     },
     "execution_count": 14,
     "metadata": {},
     "output_type": "execute_result"
    }
   ],
   "source": [
    "MonthlyOrders.columns"
   ]
  },
  {
   "cell_type": "code",
   "execution_count": 15,
   "id": "d21ae373",
   "metadata": {},
   "outputs": [
    {
     "data": {
      "text/plain": [
       "Giza      25\n",
       "Cairo     24\n",
       "Fayoum    22\n",
       "Name: city, dtype: int64"
      ]
     },
     "execution_count": 15,
     "metadata": {},
     "output_type": "execute_result"
    }
   ],
   "source": [
    "MonthlyOrders['city'].value_counts()"
   ]
  },
  {
   "cell_type": "code",
   "execution_count": 16,
   "id": "8e8c1d32",
   "metadata": {},
   "outputs": [
    {
     "data": {
      "image/png": "[encoded data removed]",
      "text/plain": [
       "<Figure size 1440x1440 with 2 Axes>"
      ]
     },
     "metadata": {
      "needs_background": "light"
     },
     "output_type": "display_data"
    }
   ],
   "source": [
    "plt.figure(figsize=(20,20))\n",
    "sns.heatmap(MonthlyOrders.corr(), annot=True, center=0).set_title(\"Correlation Heatmap\", fontsize=14)\n",
    "plt.show()"
   ]
  },
  {
   "cell_type": "markdown",
   "id": "f1fd16c7",
   "metadata": {},
   "source": [
    "### What was the best year for sales? How much was earned in that best year?\n"
   ]
  },
  {
   "cell_type": "code",
   "execution_count": 17,
   "id": "d517db95",
   "metadata": {},
   "outputs": [],
   "source": [
    "MonthlyOrders[\"day\"] = MonthlyOrders['Delivery Date'].map(lambda x: x.day)\n",
    "MonthlyOrders[\"month\"] = MonthlyOrders['Delivery Date'].map(lambda x: x.month)\n",
    "MonthlyOrders[\"year\"] = MonthlyOrders['Delivery Date'].map(lambda x: x.year)"
   ]
  },
  {
   "cell_type": "code",
   "execution_count": 18,
   "id": "07397ac1",
   "metadata": {},
   "outputs": [
    {
     "data": {
      "text/html": [
       "<div>\n",
       "<style scoped>\n",
       "    .dataframe tbody tr th:only-of-type {\n",
       "        vertical-align: middle;\n",
       "    }\n",
       "\n",
       "    .dataframe tbody tr th {\n",
       "        vertical-align: top;\n",
       "    }\n",
       "\n",
       "    .dataframe thead th {\n",
       "        text-align: right;\n",
       "    }\n",
       "</style>\n",
       "<table border=\"1\" class=\"dataframe\">\n",
       "  <thead>\n",
       "    <tr style=\"text-align: right;\">\n",
       "      <th></th>\n",
       "      <th>Product title En</th>\n",
       "      <th>Product type</th>\n",
       "      <th>Delivery Date</th>\n",
       "      <th>price</th>\n",
       "      <th>quantity</th>\n",
       "      <th>Store Id</th>\n",
       "      <th>product categoury</th>\n",
       "      <th>city</th>\n",
       "      <th>user id</th>\n",
       "      <th>order id</th>\n",
       "      <th>day</th>\n",
       "      <th>month</th>\n",
       "      <th>year</th>\n",
       "    </tr>\n",
       "  </thead>\n",
       "  <tbody>\n",
       "    <tr>\n",
       "      <th>0</th>\n",
       "      <td>bicycle.</td>\n",
       "      <td>sporting</td>\n",
       "      <td>2022-02-01 00:09:31</td>\n",
       "      <td>200.0</td>\n",
       "      <td>1</td>\n",
       "      <td>322</td>\n",
       "      <td>BabyToys</td>\n",
       "      <td>Cairo</td>\n",
       "      <td>300</td>\n",
       "      <td>500</td>\n",
       "      <td>1</td>\n",
       "      <td>2</td>\n",
       "      <td>2022</td>\n",
       "    </tr>\n",
       "    <tr>\n",
       "      <th>1</th>\n",
       "      <td>train.</td>\n",
       "      <td>Gaming</td>\n",
       "      <td>2022-02-01 00:18:56</td>\n",
       "      <td>100.0</td>\n",
       "      <td>5</td>\n",
       "      <td>323</td>\n",
       "      <td>Entertainment</td>\n",
       "      <td>Giza</td>\n",
       "      <td>301</td>\n",
       "      <td>502</td>\n",
       "      <td>1</td>\n",
       "      <td>2</td>\n",
       "      <td>2022</td>\n",
       "    </tr>\n",
       "    <tr>\n",
       "      <th>2</th>\n",
       "      <td>doll.</td>\n",
       "      <td>Gaming</td>\n",
       "      <td>2022-02-01 00:18:56</td>\n",
       "      <td>132.0</td>\n",
       "      <td>7</td>\n",
       "      <td>323</td>\n",
       "      <td>BabyToys</td>\n",
       "      <td>Giza</td>\n",
       "      <td>301</td>\n",
       "      <td>502</td>\n",
       "      <td>1</td>\n",
       "      <td>2</td>\n",
       "      <td>2022</td>\n",
       "    </tr>\n",
       "    <tr>\n",
       "      <th>3</th>\n",
       "      <td>ball.</td>\n",
       "      <td>Gaming</td>\n",
       "      <td>2022-02-01 00:47:47</td>\n",
       "      <td>232.0</td>\n",
       "      <td>2</td>\n",
       "      <td>322</td>\n",
       "      <td>Entertainment</td>\n",
       "      <td>Cairo</td>\n",
       "      <td>302</td>\n",
       "      <td>503</td>\n",
       "      <td>1</td>\n",
       "      <td>2</td>\n",
       "      <td>2022</td>\n",
       "    </tr>\n",
       "    <tr>\n",
       "      <th>4</th>\n",
       "      <td>teddy bear.</td>\n",
       "      <td>Baby Toys</td>\n",
       "      <td>2022-02-01 00:53:15</td>\n",
       "      <td>212.0</td>\n",
       "      <td>8</td>\n",
       "      <td>323</td>\n",
       "      <td>Games</td>\n",
       "      <td>Giza</td>\n",
       "      <td>301</td>\n",
       "      <td>504</td>\n",
       "      <td>1</td>\n",
       "      <td>2</td>\n",
       "      <td>2022</td>\n",
       "    </tr>\n",
       "    <tr>\n",
       "      <th>...</th>\n",
       "      <td>...</td>\n",
       "      <td>...</td>\n",
       "      <td>...</td>\n",
       "      <td>...</td>\n",
       "      <td>...</td>\n",
       "      <td>...</td>\n",
       "      <td>...</td>\n",
       "      <td>...</td>\n",
       "      <td>...</td>\n",
       "      <td>...</td>\n",
       "      <td>...</td>\n",
       "      <td>...</td>\n",
       "      <td>...</td>\n",
       "    </tr>\n",
       "    <tr>\n",
       "      <th>66</th>\n",
       "      <td>doll.</td>\n",
       "      <td>Gaming</td>\n",
       "      <td>2022-02-01 00:09:31</td>\n",
       "      <td>432.0</td>\n",
       "      <td>1</td>\n",
       "      <td>323</td>\n",
       "      <td>Entertainment</td>\n",
       "      <td>Giza</td>\n",
       "      <td>301</td>\n",
       "      <td>532</td>\n",
       "      <td>1</td>\n",
       "      <td>2</td>\n",
       "      <td>2022</td>\n",
       "    </tr>\n",
       "    <tr>\n",
       "      <th>67</th>\n",
       "      <td>ball.</td>\n",
       "      <td>Gaming</td>\n",
       "      <td>2022-02-01 00:18:56</td>\n",
       "      <td>32.0</td>\n",
       "      <td>3</td>\n",
       "      <td>322</td>\n",
       "      <td>BabyToys</td>\n",
       "      <td>Cairo</td>\n",
       "      <td>301</td>\n",
       "      <td>532</td>\n",
       "      <td>1</td>\n",
       "      <td>2</td>\n",
       "      <td>2022</td>\n",
       "    </tr>\n",
       "    <tr>\n",
       "      <th>68</th>\n",
       "      <td>train.</td>\n",
       "      <td>Gaming</td>\n",
       "      <td>2022-02-01 00:18:56</td>\n",
       "      <td>23.0</td>\n",
       "      <td>3</td>\n",
       "      <td>323</td>\n",
       "      <td>Entertainment</td>\n",
       "      <td>Giza</td>\n",
       "      <td>302</td>\n",
       "      <td>532</td>\n",
       "      <td>1</td>\n",
       "      <td>2</td>\n",
       "      <td>2022</td>\n",
       "    </tr>\n",
       "    <tr>\n",
       "      <th>69</th>\n",
       "      <td>doll.</td>\n",
       "      <td>Gaming</td>\n",
       "      <td>2022-02-01 00:47:47</td>\n",
       "      <td>23.0</td>\n",
       "      <td>5</td>\n",
       "      <td>311</td>\n",
       "      <td>Games</td>\n",
       "      <td>Fayoum</td>\n",
       "      <td>301</td>\n",
       "      <td>532</td>\n",
       "      <td>1</td>\n",
       "      <td>2</td>\n",
       "      <td>2022</td>\n",
       "    </tr>\n",
       "    <tr>\n",
       "      <th>70</th>\n",
       "      <td>ball.</td>\n",
       "      <td>Gaming</td>\n",
       "      <td>2022-02-01 00:53:15</td>\n",
       "      <td>111.0</td>\n",
       "      <td>5</td>\n",
       "      <td>311</td>\n",
       "      <td>BabyToys</td>\n",
       "      <td>Fayoum</td>\n",
       "      <td>303</td>\n",
       "      <td>532</td>\n",
       "      <td>1</td>\n",
       "      <td>2</td>\n",
       "      <td>2022</td>\n",
       "    </tr>\n",
       "  </tbody>\n",
       "</table>\n",
       "<p>71 rows × 13 columns</p>\n",
       "</div>"
      ],
      "text/plain": [
       "   Product title En Product type       Delivery Date  price  quantity  \\\n",
       "0          bicycle.     sporting 2022-02-01 00:09:31  200.0         1   \n",
       "1            train.       Gaming 2022-02-01 00:18:56  100.0         5   \n",
       "2             doll.       Gaming 2022-02-01 00:18:56  132.0         7   \n",
       "3             ball.       Gaming 2022-02-01 00:47:47  232.0         2   \n",
       "4       teddy bear.    Baby Toys 2022-02-01 00:53:15  212.0         8   \n",
       "..              ...          ...                 ...    ...       ...   \n",
       "66            doll.       Gaming 2022-02-01 00:09:31  432.0         1   \n",
       "67            ball.       Gaming 2022-02-01 00:18:56   32.0         3   \n",
       "68           train.       Gaming 2022-02-01 00:18:56   23.0         3   \n",
       "69            doll.       Gaming 2022-02-01 00:47:47   23.0         5   \n",
       "70            ball.       Gaming 2022-02-01 00:53:15  111.0         5   \n",
       "\n",
       "    Store Id product categoury    city  user id  order id  day  month  year  \n",
       "0        322          BabyToys   Cairo      300       500    1      2  2022  \n",
       "1        323    Entertainment     Giza      301       502    1      2  2022  \n",
       "2        323          BabyToys    Giza      301       502    1      2  2022  \n",
       "3        322    Entertainment    Cairo      302       503    1      2  2022  \n",
       "4        323             Games    Giza      301       504    1      2  2022  \n",
       "..       ...               ...     ...      ...       ...  ...    ...   ...  \n",
       "66       323    Entertainment     Giza      301       532    1      2  2022  \n",
       "67       322          BabyToys   Cairo      301       532    1      2  2022  \n",
       "68       323    Entertainment     Giza      302       532    1      2  2022  \n",
       "69       311             Games  Fayoum      301       532    1      2  2022  \n",
       "70       311          BabyToys  Fayoum      303       532    1      2  2022  \n",
       "\n",
       "[71 rows x 13 columns]"
      ]
     },
     "execution_count": 18,
     "metadata": {},
     "output_type": "execute_result"
    }
   ],
   "source": [
    "MonthlyOrders"
   ]
  },
  {
   "cell_type": "code",
   "execution_count": 19,
   "id": "3f4e1bc6",
   "metadata": {},
   "outputs": [
    {
     "data": {
      "text/html": [
       "<div>\n",
       "<style scoped>\n",
       "    .dataframe tbody tr th:only-of-type {\n",
       "        vertical-align: middle;\n",
       "    }\n",
       "\n",
       "    .dataframe tbody tr th {\n",
       "        vertical-align: top;\n",
       "    }\n",
       "\n",
       "    .dataframe thead th {\n",
       "        text-align: right;\n",
       "    }\n",
       "</style>\n",
       "<table border=\"1\" class=\"dataframe\">\n",
       "  <thead>\n",
       "    <tr style=\"text-align: right;\">\n",
       "      <th></th>\n",
       "      <th>price</th>\n",
       "      <th>quantity</th>\n",
       "      <th>Store Id</th>\n",
       "      <th>user id</th>\n",
       "      <th>order id</th>\n",
       "      <th>day</th>\n",
       "      <th>month</th>\n",
       "    </tr>\n",
       "    <tr>\n",
       "      <th>year</th>\n",
       "      <th></th>\n",
       "      <th></th>\n",
       "      <th></th>\n",
       "      <th></th>\n",
       "      <th></th>\n",
       "      <th></th>\n",
       "      <th></th>\n",
       "    </tr>\n",
       "  </thead>\n",
       "  <tbody>\n",
       "    <tr>\n",
       "      <th>2020</th>\n",
       "      <td>930.0</td>\n",
       "      <td>25</td>\n",
       "      <td>1923</td>\n",
       "      <td>1809</td>\n",
       "      <td>3132</td>\n",
       "      <td>6</td>\n",
       "      <td>12</td>\n",
       "    </tr>\n",
       "    <tr>\n",
       "      <th>2021</th>\n",
       "      <td>2920.0</td>\n",
       "      <td>33</td>\n",
       "      <td>1912</td>\n",
       "      <td>1807</td>\n",
       "      <td>3117</td>\n",
       "      <td>6</td>\n",
       "      <td>12</td>\n",
       "    </tr>\n",
       "    <tr>\n",
       "      <th>2022</th>\n",
       "      <td>35831.3</td>\n",
       "      <td>304</td>\n",
       "      <td>18810</td>\n",
       "      <td>17797</td>\n",
       "      <td>30947</td>\n",
       "      <td>59</td>\n",
       "      <td>118</td>\n",
       "    </tr>\n",
       "  </tbody>\n",
       "</table>\n",
       "</div>"
      ],
      "text/plain": [
       "        price  quantity  Store Id  user id  order id  day  month\n",
       "year                                                            \n",
       "2020    930.0        25      1923     1809      3132    6     12\n",
       "2021   2920.0        33      1912     1807      3117    6     12\n",
       "2022  35831.3       304     18810    17797     30947   59    118"
      ]
     },
     "execution_count": 19,
     "metadata": {},
     "output_type": "execute_result"
    }
   ],
   "source": [
    "best_year = MonthlyOrders.groupby('year').sum()\n",
    "best_year"
   ]
  },
  {
   "cell_type": "code",
   "execution_count": 20,
   "id": "e258cea3",
   "metadata": {},
   "outputs": [
    {
     "data": {
      "text/plain": [
       "Text(0, 0.5, 'Sales')"
      ]
     },
     "execution_count": 20,
     "metadata": {},
     "output_type": "execute_result"
    },
    {
     "data": {
      "image/png": "[encoded data removed]",
      "text/plain": [
       "<Figure size 720x432 with 1 Axes>"
      ]
     },
     "metadata": {
      "needs_background": "light"
     },
     "output_type": "display_data"
    }
   ],
   "source": [
    "# Set the width and height of the figure\n",
    "plt.figure(figsize=(10,6))\n",
    "\n",
    "# Add title\n",
    "plt.title(\"Total sales, in a year\")\n",
    "\n",
    "# Bar chart showing average sales in each month\n",
    "sns.barplot(x=best_year.index, y=best_year.price)\n",
    "\n",
    "plt.xlabel('Year')\n",
    "plt.ylabel('Sales')"
   ]
  },
  {
   "cell_type": "code",
   "execution_count": 21,
   "id": "91d78952",
   "metadata": {},
   "outputs": [
    {
     "data": {
      "text/plain": [
       "Index(['Product title En', 'Product type', 'Delivery Date', 'price',\n",
       "       'quantity', 'Store Id', 'product categoury', 'city', 'user id',\n",
       "       'order id', 'day', 'month', 'year'],\n",
       "      dtype='object')"
      ]
     },
     "execution_count": 21,
     "metadata": {},
     "output_type": "execute_result"
    }
   ],
   "source": [
    "MonthlyOrders.columns"
   ]
  },
  {
   "cell_type": "markdown",
   "id": "531619dc",
   "metadata": {},
   "source": [
    "### What product type had the highest sales ?"
   ]
  },
  {
   "cell_type": "code",
   "execution_count": 22,
   "id": "83bcefb0",
   "metadata": {},
   "outputs": [
    {
     "data": {
      "text/plain": [
       "array(['sporting', 'Gaming', 'Baby Toys', 'puzzle'], dtype=object)"
      ]
     },
     "execution_count": 22,
     "metadata": {},
     "output_type": "execute_result"
    }
   ],
   "source": [
    "MonthlyOrders['Product type'].unique()"
   ]
  },
  {
   "cell_type": "code",
   "execution_count": 23,
   "id": "2bc14853",
   "metadata": {},
   "outputs": [
    {
     "data": {
      "text/html": [
       "<div>\n",
       "<style scoped>\n",
       "    .dataframe tbody tr th:only-of-type {\n",
       "        vertical-align: middle;\n",
       "    }\n",
       "\n",
       "    .dataframe tbody tr th {\n",
       "        vertical-align: top;\n",
       "    }\n",
       "\n",
       "    .dataframe thead th {\n",
       "        text-align: right;\n",
       "    }\n",
       "</style>\n",
       "<table border=\"1\" class=\"dataframe\">\n",
       "  <thead>\n",
       "    <tr style=\"text-align: right;\">\n",
       "      <th></th>\n",
       "      <th>price</th>\n",
       "      <th>quantity</th>\n",
       "      <th>Store Id</th>\n",
       "      <th>user id</th>\n",
       "      <th>order id</th>\n",
       "      <th>day</th>\n",
       "      <th>month</th>\n",
       "      <th>year</th>\n",
       "    </tr>\n",
       "    <tr>\n",
       "      <th>Product type</th>\n",
       "      <th></th>\n",
       "      <th></th>\n",
       "      <th></th>\n",
       "      <th></th>\n",
       "      <th></th>\n",
       "      <th></th>\n",
       "      <th></th>\n",
       "      <th></th>\n",
       "    </tr>\n",
       "  </thead>\n",
       "  <tbody>\n",
       "    <tr>\n",
       "      <th>Baby Toys</th>\n",
       "      <td>1895.0</td>\n",
       "      <td>63</td>\n",
       "      <td>3168</td>\n",
       "      <td>3014</td>\n",
       "      <td>5233</td>\n",
       "      <td>10</td>\n",
       "      <td>20</td>\n",
       "      <td>20220</td>\n",
       "    </tr>\n",
       "    <tr>\n",
       "      <th>Gaming</th>\n",
       "      <td>18212.0</td>\n",
       "      <td>200</td>\n",
       "      <td>12844</td>\n",
       "      <td>12062</td>\n",
       "      <td>20985</td>\n",
       "      <td>40</td>\n",
       "      <td>80</td>\n",
       "      <td>80867</td>\n",
       "    </tr>\n",
       "    <tr>\n",
       "      <th>puzzle</th>\n",
       "      <td>14881.0</td>\n",
       "      <td>54</td>\n",
       "      <td>3144</td>\n",
       "      <td>3017</td>\n",
       "      <td>5237</td>\n",
       "      <td>10</td>\n",
       "      <td>20</td>\n",
       "      <td>20220</td>\n",
       "    </tr>\n",
       "    <tr>\n",
       "      <th>sporting</th>\n",
       "      <td>4693.3</td>\n",
       "      <td>45</td>\n",
       "      <td>3489</td>\n",
       "      <td>3320</td>\n",
       "      <td>5741</td>\n",
       "      <td>11</td>\n",
       "      <td>22</td>\n",
       "      <td>22237</td>\n",
       "    </tr>\n",
       "  </tbody>\n",
       "</table>\n",
       "</div>"
      ],
      "text/plain": [
       "                price  quantity  Store Id  user id  order id  day  month  \\\n",
       "Product type                                                               \n",
       "Baby Toys      1895.0        63      3168     3014      5233   10     20   \n",
       "Gaming        18212.0       200     12844    12062     20985   40     80   \n",
       "puzzle        14881.0        54      3144     3017      5237   10     20   \n",
       "sporting       4693.3        45      3489     3320      5741   11     22   \n",
       "\n",
       "               year  \n",
       "Product type         \n",
       "Baby Toys     20220  \n",
       "Gaming        80867  \n",
       "puzzle        20220  \n",
       "sporting      22237  "
      ]
     },
     "execution_count": 23,
     "metadata": {},
     "output_type": "execute_result"
    }
   ],
   "source": [
    "best_product_type = MonthlyOrders.groupby('Product type').sum()\n",
    "best_product_type"
   ]
  },
  {
   "cell_type": "code",
   "execution_count": 24,
   "id": "c3e72966",
   "metadata": {},
   "outputs": [
    {
     "data": {
      "text/plain": [
       "18212.0"
      ]
     },
     "execution_count": 24,
     "metadata": {},
     "output_type": "execute_result"
    }
   ],
   "source": [
    "best_product_type.price.max()"
   ]
  },
  {
   "cell_type": "code",
   "execution_count": 25,
   "id": "fcd70ee4",
   "metadata": {},
   "outputs": [
    {
     "data": {
      "text/plain": [
       "Index(['Gaming'], dtype='object', name='Product type')"
      ]
     },
     "execution_count": 25,
     "metadata": {},
     "output_type": "execute_result"
    }
   ],
   "source": [
    "best_product_type.index[best_product_type.quantity == best_product_type.quantity.max()]\n"
   ]
  },
  {
   "cell_type": "code",
   "execution_count": null,
   "id": "3f096f6d",
   "metadata": {},
   "outputs": [],
   "source": []
  },
  {
   "cell_type": "code",
   "execution_count": 26,
   "id": "fe650e4d",
   "metadata": {},
   "outputs": [
    {
     "data": {
      "text/plain": [
       "Text(83.125, 0.5, 'Sales')"
      ]
     },
     "execution_count": 26,
     "metadata": {},
     "output_type": "execute_result"
    },
    {
     "data": {
      "image/png": "[encoded data removed]",
      "text/plain": [
       "<Figure size 1008x432 with 1 Axes>"
      ]
     },
     "metadata": {
      "needs_background": "light"
     },
     "output_type": "display_data"
    }
   ],
   "source": [
    "# Set the width and height of the figure\n",
    "plt.figure(figsize=(14,6))\n",
    "\n",
    "# Add title\n",
    "plt.title(\"Sales by product_Type\")\n",
    "\n",
    "# Bar chart showing average sales in each product_title\n",
    "sns.barplot(x=best_product_type.index, y=best_product_type.price)\n",
    "\n",
    "plt.xticks(rotation=90)\n",
    "plt.tight_layout()\n",
    "plt.xlabel('product_type')\n",
    "plt.ylabel('Sales')"
   ]
  },
  {
   "cell_type": "code",
   "execution_count": 27,
   "id": "70396aec",
   "metadata": {},
   "outputs": [
    {
     "data": {
      "text/plain": [
       "Text(95.875, 0.5, 'Quantities')"
      ]
     },
     "execution_count": 27,
     "metadata": {},
     "output_type": "execute_result"
    },
    {
     "data": {
      "image/png": "[encoded data removed]",
      "text/plain": [
       "<Figure size 1008x432 with 1 Axes>"
      ]
     },
     "metadata": {
      "needs_background": "light"
     },
     "output_type": "display_data"
    }
   ],
   "source": [
    "# Set the width and height of the figure\n",
    "plt.figure(figsize=(14,6))\n",
    "\n",
    "# Add title\n",
    "plt.title(\"Quantities by product_title\")\n",
    "\n",
    "# Bar chart showing average sales in each product_title\n",
    "sns.barplot(x=best_product_type.index, y=best_product_type.quantity)\n",
    "\n",
    "plt.xticks(rotation=90)\n",
    "plt.tight_layout()\n",
    "plt.xlabel('product_type')\n",
    "plt.ylabel('Quantities')"
   ]
  },
  {
   "cell_type": "markdown",
   "id": "23995999",
   "metadata": {},
   "source": [
    "##  Gaming is the highest quantity and price"
   ]
  },
  {
   "cell_type": "markdown",
   "id": "2d9c5df7",
   "metadata": {},
   "source": [
    "### what Product title had the highest sales?"
   ]
  },
  {
   "cell_type": "code",
   "execution_count": 28,
   "id": "cd2baf10",
   "metadata": {},
   "outputs": [
    {
     "data": {
      "text/plain": [
       "Index(['Product title En', 'Product type', 'Delivery Date', 'price',\n",
       "       'quantity', 'Store Id', 'product categoury', 'city', 'user id',\n",
       "       'order id', 'day', 'month', 'year'],\n",
       "      dtype='object')"
      ]
     },
     "execution_count": 28,
     "metadata": {},
     "output_type": "execute_result"
    }
   ],
   "source": [
    "MonthlyOrders.columns"
   ]
  },
  {
   "cell_type": "code",
   "execution_count": 29,
   "id": "63eaf000",
   "metadata": {},
   "outputs": [
    {
     "data": {
      "text/plain": [
       "array(['bicycle.', 'train.', 'doll.', 'ball.', 'teddy bear.', 'kite.',\n",
       "       'rubber ducky.', 'airplane.', 'Stuffed Mickey Mouse',\n",
       "       'Finger Paint', 'Sock Monkey', 'Buck Rogers Rocket Pistol',\n",
       "       'Microscope Set', 'Beach Ball', 'Red Ryder BB Gun', 'Army Men',\n",
       "       'View-Master', 'Bubble Solution', 'Little Golden Books', 'Slinky',\n",
       "       'Magic 8 Ball', 'Legos', 'Water Balloon', 'Silly Putty',\n",
       "       'Fisher-Price Little People', 'Colorforms', 'Paint-by-Numbers Kit',\n",
       "       'Mr. Potato Head', 'Wiffle Ball', 'Matchbox Car', 'PEZ Dispenser',\n",
       "       'Gumby', 'Play-Doh', 'Tonka Truck', 'Frisbee', 'Corn Popper',\n",
       "       'Two-Handed Pogo Stick', 'Hula Hoop', 'Barbie', 'Troll Doll',\n",
       "       'Plarail Toy Train', 'Chatty Cathy', 'Fake Vomit', 'Etch A Sketch',\n",
       "       'Rock-a-Stack', 'Ken', \"Slip 'n Slide\", 'Chatter Telephone',\n",
       "       'G.I. Joe', 'Easy-Bake Oven', 'Creepy Crawlers',\n",
       "       \"Rock'em Sock'em Robots\", 'Johnny Seven O.M.A.', \"See 'n Say\",\n",
       "       'SuperBall', 'Barrel of Monkeys', 'Radio-Controlled Car',\n",
       "       'Lite-Brite', 'Hot Wheels', 'Playmobil', 'Flatsy Doll',\n",
       "       \"Barbie's Dream House\"], dtype=object)"
      ]
     },
     "execution_count": 29,
     "metadata": {},
     "output_type": "execute_result"
    }
   ],
   "source": [
    "MonthlyOrders['Product title En'].unique()"
   ]
  },
  {
   "cell_type": "code",
   "execution_count": 30,
   "id": "45c3f19d",
   "metadata": {},
   "outputs": [
    {
     "data": {
      "text/html": [
       "<div>\n",
       "<style scoped>\n",
       "    .dataframe tbody tr th:only-of-type {\n",
       "        vertical-align: middle;\n",
       "    }\n",
       "\n",
       "    .dataframe tbody tr th {\n",
       "        vertical-align: top;\n",
       "    }\n",
       "\n",
       "    .dataframe thead th {\n",
       "        text-align: right;\n",
       "    }\n",
       "</style>\n",
       "<table border=\"1\" class=\"dataframe\">\n",
       "  <thead>\n",
       "    <tr style=\"text-align: right;\">\n",
       "      <th></th>\n",
       "      <th>price</th>\n",
       "      <th>quantity</th>\n",
       "      <th>Store Id</th>\n",
       "      <th>user id</th>\n",
       "      <th>order id</th>\n",
       "      <th>day</th>\n",
       "      <th>month</th>\n",
       "      <th>year</th>\n",
       "    </tr>\n",
       "    <tr>\n",
       "      <th>Product title En</th>\n",
       "      <th></th>\n",
       "      <th></th>\n",
       "      <th></th>\n",
       "      <th></th>\n",
       "      <th></th>\n",
       "      <th></th>\n",
       "      <th></th>\n",
       "      <th></th>\n",
       "    </tr>\n",
       "  </thead>\n",
       "  <tbody>\n",
       "    <tr>\n",
       "      <th>Army Men</th>\n",
       "      <td>121.0</td>\n",
       "      <td>7</td>\n",
       "      <td>323</td>\n",
       "      <td>301</td>\n",
       "      <td>513</td>\n",
       "      <td>1</td>\n",
       "      <td>2</td>\n",
       "      <td>2021</td>\n",
       "    </tr>\n",
       "    <tr>\n",
       "      <th>Barbie</th>\n",
       "      <td>3.0</td>\n",
       "      <td>7</td>\n",
       "      <td>322</td>\n",
       "      <td>301</td>\n",
       "      <td>532</td>\n",
       "      <td>1</td>\n",
       "      <td>2</td>\n",
       "      <td>2021</td>\n",
       "    </tr>\n",
       "    <tr>\n",
       "      <th>Barbie's Dream House</th>\n",
       "      <td>231.0</td>\n",
       "      <td>8</td>\n",
       "      <td>323</td>\n",
       "      <td>302</td>\n",
       "      <td>532</td>\n",
       "      <td>1</td>\n",
       "      <td>2</td>\n",
       "      <td>2022</td>\n",
       "    </tr>\n",
       "    <tr>\n",
       "      <th>Barrel of Monkeys</th>\n",
       "      <td>32.0</td>\n",
       "      <td>5</td>\n",
       "      <td>323</td>\n",
       "      <td>302</td>\n",
       "      <td>532</td>\n",
       "      <td>1</td>\n",
       "      <td>2</td>\n",
       "      <td>2022</td>\n",
       "    </tr>\n",
       "    <tr>\n",
       "      <th>Beach Ball</th>\n",
       "      <td>232.0</td>\n",
       "      <td>7</td>\n",
       "      <td>322</td>\n",
       "      <td>300</td>\n",
       "      <td>511</td>\n",
       "      <td>1</td>\n",
       "      <td>2</td>\n",
       "      <td>2020</td>\n",
       "    </tr>\n",
       "    <tr>\n",
       "      <th>...</th>\n",
       "      <td>...</td>\n",
       "      <td>...</td>\n",
       "      <td>...</td>\n",
       "      <td>...</td>\n",
       "      <td>...</td>\n",
       "      <td>...</td>\n",
       "      <td>...</td>\n",
       "      <td>...</td>\n",
       "    </tr>\n",
       "    <tr>\n",
       "      <th>doll.</th>\n",
       "      <td>810.0</td>\n",
       "      <td>14</td>\n",
       "      <td>1268</td>\n",
       "      <td>1206</td>\n",
       "      <td>2098</td>\n",
       "      <td>4</td>\n",
       "      <td>8</td>\n",
       "      <td>8088</td>\n",
       "    </tr>\n",
       "    <tr>\n",
       "      <th>kite.</th>\n",
       "      <td>121.0</td>\n",
       "      <td>3</td>\n",
       "      <td>311</td>\n",
       "      <td>303</td>\n",
       "      <td>505</td>\n",
       "      <td>1</td>\n",
       "      <td>2</td>\n",
       "      <td>2022</td>\n",
       "    </tr>\n",
       "    <tr>\n",
       "      <th>rubber ducky.</th>\n",
       "      <td>211.3</td>\n",
       "      <td>3</td>\n",
       "      <td>311</td>\n",
       "      <td>303</td>\n",
       "      <td>505</td>\n",
       "      <td>1</td>\n",
       "      <td>2</td>\n",
       "      <td>2022</td>\n",
       "    </tr>\n",
       "    <tr>\n",
       "      <th>teddy bear.</th>\n",
       "      <td>212.0</td>\n",
       "      <td>8</td>\n",
       "      <td>323</td>\n",
       "      <td>301</td>\n",
       "      <td>504</td>\n",
       "      <td>1</td>\n",
       "      <td>2</td>\n",
       "      <td>2022</td>\n",
       "    </tr>\n",
       "    <tr>\n",
       "      <th>train.</th>\n",
       "      <td>1380.0</td>\n",
       "      <td>16</td>\n",
       "      <td>1291</td>\n",
       "      <td>1206</td>\n",
       "      <td>2098</td>\n",
       "      <td>4</td>\n",
       "      <td>8</td>\n",
       "      <td>8088</td>\n",
       "    </tr>\n",
       "  </tbody>\n",
       "</table>\n",
       "<p>62 rows × 8 columns</p>\n",
       "</div>"
      ],
      "text/plain": [
       "                       price  quantity  Store Id  user id  order id  day  \\\n",
       "Product title En                                                           \n",
       "Army Men               121.0         7       323      301       513    1   \n",
       "Barbie                   3.0         7       322      301       532    1   \n",
       "Barbie's Dream House   231.0         8       323      302       532    1   \n",
       "Barrel of Monkeys       32.0         5       323      302       532    1   \n",
       "Beach Ball             232.0         7       322      300       511    1   \n",
       "...                      ...       ...       ...      ...       ...  ...   \n",
       "doll.                  810.0        14      1268     1206      2098    4   \n",
       "kite.                  121.0         3       311      303       505    1   \n",
       "rubber ducky.          211.3         3       311      303       505    1   \n",
       "teddy bear.            212.0         8       323      301       504    1   \n",
       "train.                1380.0        16      1291     1206      2098    4   \n",
       "\n",
       "                      month  year  \n",
       "Product title En                   \n",
       "Army Men                  2  2021  \n",
       "Barbie                    2  2021  \n",
       "Barbie's Dream House      2  2022  \n",
       "Barrel of Monkeys         2  2022  \n",
       "Beach Ball                2  2020  \n",
       "...                     ...   ...  \n",
       "doll.                     8  8088  \n",
       "kite.                     2  2022  \n",
       "rubber ducky.             2  2022  \n",
       "teddy bear.               2  2022  \n",
       "train.                    8  8088  \n",
       "\n",
       "[62 rows x 8 columns]"
      ]
     },
     "execution_count": 30,
     "metadata": {},
     "output_type": "execute_result"
    }
   ],
   "source": [
    "best_product_title = MonthlyOrders.groupby('Product title En').sum()\n",
    "best_product_title"
   ]
  },
  {
   "cell_type": "code",
   "execution_count": 31,
   "id": "1c2277a0",
   "metadata": {},
   "outputs": [
    {
     "data": {
      "text/plain": [
       "8689.0"
      ]
     },
     "execution_count": 31,
     "metadata": {},
     "output_type": "execute_result"
    }
   ],
   "source": [
    "best_product_title.price.max()"
   ]
  },
  {
   "cell_type": "code",
   "execution_count": 32,
   "id": "c7f0e6e8",
   "metadata": {},
   "outputs": [
    {
     "data": {
      "text/plain": [
       "Index(['ball.'], dtype='object', name='Product title En')"
      ]
     },
     "execution_count": 32,
     "metadata": {},
     "output_type": "execute_result"
    }
   ],
   "source": [
    "best_product_title.index[best_product_title.quantity == best_product_title.quantity.max()]\n"
   ]
  },
  {
   "cell_type": "code",
   "execution_count": 33,
   "id": "ef9a7343",
   "metadata": {},
   "outputs": [
    {
     "data": {
      "text/plain": [
       "17"
      ]
     },
     "execution_count": 33,
     "metadata": {},
     "output_type": "execute_result"
    }
   ],
   "source": [
    "best_product_title.quantity.max()"
   ]
  },
  {
   "cell_type": "code",
   "execution_count": 34,
   "id": "a495654b",
   "metadata": {},
   "outputs": [
    {
     "data": {
      "text/plain": [
       "Text(89.5, 0.5, 'Sales')"
      ]
     },
     "execution_count": 34,
     "metadata": {},
     "output_type": "execute_result"
    },
    {
     "data": {
      "image/png": "[encoded data removed]",
      "text/plain": [
       "<Figure size 1008x432 with 1 Axes>"
      ]
     },
     "metadata": {
      "needs_background": "light"
     },
     "output_type": "display_data"
    }
   ],
   "source": [
    "# Set the width and height of the figure\n",
    "plt.figure(figsize=(14,6))\n",
    "\n",
    "# Add title\n",
    "plt.title(\"Sales by product_title\")\n",
    "\n",
    "# Bar chart showing average sales in each product_title\n",
    "sns.barplot(x=best_product_title.index, y=best_product_title.price)\n",
    "\n",
    "plt.xticks(rotation=90)\n",
    "plt.tight_layout()\n",
    "plt.xlabel('product_title')\n",
    "plt.ylabel('Sales')"
   ]
  },
  {
   "cell_type": "code",
   "execution_count": 35,
   "id": "d069e2ee",
   "metadata": {},
   "outputs": [
    {
     "data": {
      "text/plain": [
       "Text(102.25, 0.5, 'Quantities')"
      ]
     },
     "execution_count": 35,
     "metadata": {},
     "output_type": "execute_result"
    },
    {
     "data": {
      "image/png": "[encoded data removed]",
      "text/plain": [
       "<Figure size 1008x432 with 1 Axes>"
      ]
     },
     "metadata": {
      "needs_background": "light"
     },
     "output_type": "display_data"
    }
   ],
   "source": [
    "# Set the width and height of the figure\n",
    "plt.figure(figsize=(14,6))\n",
    "\n",
    "# Add title\n",
    "plt.title(\"quantities by product_title\")\n",
    "\n",
    "# Bar chart showing average sales in each product_title\n",
    "sns.barplot(x=best_product_title.index, y=best_product_title.quantity)\n",
    "\n",
    "plt.xticks(rotation=90)\n",
    "plt.tight_layout()\n",
    "plt.xlabel('product_title')\n",
    "plt.ylabel('Quantities')"
   ]
  },
  {
   "cell_type": "markdown",
   "id": "43429337",
   "metadata": {},
   "source": [
    "## ball is the highest quantity and price"
   ]
  },
  {
   "cell_type": "markdown",
   "id": "fd60c80a",
   "metadata": {},
   "source": []
  },
  {
   "cell_type": "markdown",
   "id": "5cb1da71",
   "metadata": {},
   "source": [
    "### What city had the highest sales ?"
   ]
  },
  {
   "cell_type": "code",
   "execution_count": 36,
   "id": "1f2a4b98",
   "metadata": {},
   "outputs": [
    {
     "data": {
      "text/plain": [
       "array(['Cairo', 'Giza', 'Fayoum'], dtype=object)"
      ]
     },
     "execution_count": 36,
     "metadata": {},
     "output_type": "execute_result"
    }
   ],
   "source": [
    "MonthlyOrders.city.unique()"
   ]
  },
  {
   "cell_type": "code",
   "execution_count": 37,
   "id": "dbe3e1f0",
   "metadata": {},
   "outputs": [
    {
     "data": {
      "text/html": [
       "<div>\n",
       "<style scoped>\n",
       "    .dataframe tbody tr th:only-of-type {\n",
       "        vertical-align: middle;\n",
       "    }\n",
       "\n",
       "    .dataframe tbody tr th {\n",
       "        vertical-align: top;\n",
       "    }\n",
       "\n",
       "    .dataframe thead th {\n",
       "        text-align: right;\n",
       "    }\n",
       "</style>\n",
       "<table border=\"1\" class=\"dataframe\">\n",
       "  <thead>\n",
       "    <tr style=\"text-align: right;\">\n",
       "      <th></th>\n",
       "      <th>price</th>\n",
       "      <th>quantity</th>\n",
       "      <th>Store Id</th>\n",
       "      <th>user id</th>\n",
       "      <th>order id</th>\n",
       "      <th>day</th>\n",
       "      <th>month</th>\n",
       "      <th>year</th>\n",
       "    </tr>\n",
       "    <tr>\n",
       "      <th>city</th>\n",
       "      <th></th>\n",
       "      <th></th>\n",
       "      <th></th>\n",
       "      <th></th>\n",
       "      <th></th>\n",
       "      <th></th>\n",
       "      <th></th>\n",
       "      <th></th>\n",
       "    </tr>\n",
       "  </thead>\n",
       "  <tbody>\n",
       "    <tr>\n",
       "      <th>Cairo</th>\n",
       "      <td>13694.0</td>\n",
       "      <td>106</td>\n",
       "      <td>7728</td>\n",
       "      <td>7235</td>\n",
       "      <td>12570</td>\n",
       "      <td>24</td>\n",
       "      <td>48</td>\n",
       "      <td>48520</td>\n",
       "    </tr>\n",
       "    <tr>\n",
       "      <th>Fayoum</th>\n",
       "      <td>17328.3</td>\n",
       "      <td>126</td>\n",
       "      <td>6842</td>\n",
       "      <td>6643</td>\n",
       "      <td>11524</td>\n",
       "      <td>22</td>\n",
       "      <td>44</td>\n",
       "      <td>44480</td>\n",
       "    </tr>\n",
       "    <tr>\n",
       "      <th>Giza</th>\n",
       "      <td>8659.0</td>\n",
       "      <td>130</td>\n",
       "      <td>8075</td>\n",
       "      <td>7535</td>\n",
       "      <td>13102</td>\n",
       "      <td>25</td>\n",
       "      <td>50</td>\n",
       "      <td>50544</td>\n",
       "    </tr>\n",
       "  </tbody>\n",
       "</table>\n",
       "</div>"
      ],
      "text/plain": [
       "          price  quantity  Store Id  user id  order id  day  month   year\n",
       "city                                                                     \n",
       "Cairo   13694.0       106      7728     7235     12570   24     48  48520\n",
       "Fayoum  17328.3       126      6842     6643     11524   22     44  44480\n",
       "Giza     8659.0       130      8075     7535     13102   25     50  50544"
      ]
     },
     "execution_count": 37,
     "metadata": {},
     "output_type": "execute_result"
    }
   ],
   "source": [
    "best_city = MonthlyOrders.groupby('city').sum()\n",
    "best_city"
   ]
  },
  {
   "cell_type": "code",
   "execution_count": 38,
   "id": "ac8cc8df",
   "metadata": {},
   "outputs": [
    {
     "data": {
      "text/plain": [
       "Index(['Fayoum'], dtype='object', name='city')"
      ]
     },
     "execution_count": 38,
     "metadata": {},
     "output_type": "execute_result"
    }
   ],
   "source": [
    "best_city.index[best_city.price == best_city.price.max()]\n"
   ]
  },
  {
   "cell_type": "code",
   "execution_count": 39,
   "id": "288ab5a1",
   "metadata": {},
   "outputs": [
    {
     "data": {
      "text/plain": [
       "17328.3"
      ]
     },
     "execution_count": 39,
     "metadata": {},
     "output_type": "execute_result"
    }
   ],
   "source": [
    "best_city.price.max()"
   ]
  },
  {
   "cell_type": "markdown",
   "id": "dfcb9774",
   "metadata": {},
   "source": [
    "### Fayoum city had the highest price, with sales of 17328.3"
   ]
  },
  {
   "cell_type": "code",
   "execution_count": 40,
   "id": "22635140",
   "metadata": {},
   "outputs": [
    {
     "data": {
      "text/plain": [
       "Index(['Giza'], dtype='object', name='city')"
      ]
     },
     "execution_count": 40,
     "metadata": {},
     "output_type": "execute_result"
    }
   ],
   "source": [
    "best_city.index[best_city.quantity == best_city.quantity.max()]\n"
   ]
  },
  {
   "cell_type": "code",
   "execution_count": 41,
   "id": "00664cc8",
   "metadata": {},
   "outputs": [
    {
     "data": {
      "text/plain": [
       "130"
      ]
     },
     "execution_count": 41,
     "metadata": {},
     "output_type": "execute_result"
    }
   ],
   "source": [
    "best_city.quantity.max()\n"
   ]
  },
  {
   "cell_type": "markdown",
   "id": "0badfe1d",
   "metadata": {},
   "source": [
    "### Giza city had the highest quantity with 130 "
   ]
  },
  {
   "cell_type": "code",
   "execution_count": 42,
   "id": "b97206d2",
   "metadata": {},
   "outputs": [
    {
     "data": {
      "text/plain": [
       "Text(83.125, 0.5, 'Sales')"
      ]
     },
     "execution_count": 42,
     "metadata": {},
     "output_type": "execute_result"
    },
    {
     "data": {
      "image/png": "[encoded data removed]",
      "text/plain": [
       "<Figure size 1008x432 with 1 Axes>"
      ]
     },
     "metadata": {
      "needs_background": "light"
     },
     "output_type": "display_data"
    }
   ],
   "source": [
    "# Set the width and height of the figure\n",
    "plt.figure(figsize=(14,6))\n",
    "\n",
    "# Add title\n",
    "plt.title(\"Sales by city\")\n",
    "\n",
    "# Bar chart showing average sales in each city\n",
    "sns.barplot(x=best_city.index, y=best_city.price)\n",
    "\n",
    "plt.xticks(rotation=90)\n",
    "plt.tight_layout()\n",
    "plt.xlabel('Cities')\n",
    "plt.ylabel('Sales')"
   ]
  },
  {
   "cell_type": "code",
   "execution_count": 43,
   "id": "2fc3229b",
   "metadata": {},
   "outputs": [
    {
     "data": {
      "text/plain": [
       "Text(95.875, 0.5, 'Quantities')"
      ]
     },
     "execution_count": 43,
     "metadata": {},
     "output_type": "execute_result"
    },
    {
     "data": {
      "image/png": "[encoded data removed]",
      "text/plain": [
       "<Figure size 1008x432 with 1 Axes>"
      ]
     },
     "metadata": {
      "needs_background": "light"
     },
     "output_type": "display_data"
    }
   ],
   "source": [
    "# Set the width and height of the figure\n",
    "plt.figure(figsize=(14,6))\n",
    "\n",
    "# Add title\n",
    "plt.title(\"Quantities by city\")\n",
    "\n",
    "# Bar chart showing average quantity in each city\n",
    "sns.barplot(x=best_city.index, y=best_city.quantity)\n",
    "\n",
    "plt.xticks(rotation=90)\n",
    "plt.tight_layout()\n",
    "plt.xlabel('Cities')\n",
    "plt.ylabel('Quantities')"
   ]
  },
  {
   "cell_type": "markdown",
   "id": "b96c5450",
   "metadata": {},
   "source": [
    "### As you can observe, Giza had way higher Quantity than any other cities but fewer sales\n",
    "### But still no big difference between them."
   ]
  },
  {
   "cell_type": "code",
   "execution_count": 44,
   "id": "0457dbf2",
   "metadata": {},
   "outputs": [
    {
     "data": {
      "text/plain": [
       "city\n",
       "Cairo     570.583333\n",
       "Fayoum    787.650000\n",
       "Giza      346.360000\n",
       "Name: price, dtype: float64"
      ]
     },
     "execution_count": 44,
     "metadata": {},
     "output_type": "execute_result"
    }
   ],
   "source": [
    "# The mean sales per city\n",
    "mean_sales = MonthlyOrders.groupby('city').mean()['price']\n",
    "mean_sales"
   ]
  },
  {
   "cell_type": "code",
   "execution_count": null,
   "id": "ee843b5d",
   "metadata": {},
   "outputs": [],
   "source": []
  },
  {
   "cell_type": "code",
   "execution_count": null,
   "id": "8869e9a7",
   "metadata": {},
   "outputs": [],
   "source": []
  }
 ],
 "metadata": {
  "kernelspec": {
   "display_name": "Python 3",
   "language": "python",
   "name": "python3"
  },
  "language_info": {
   "codemirror_mode": {
    "name": "ipython",
    "version": 3
   },
   "file_extension": ".py",
   "mimetype": "text/x-python",
   "name": "python",
   "nbconvert_exporter": "python",
   "pygments_lexer": "ipython3",
   "version": "3.8.8"
  }
 },
 "nbformat": 4,
 "nbformat_minor": 5
}
